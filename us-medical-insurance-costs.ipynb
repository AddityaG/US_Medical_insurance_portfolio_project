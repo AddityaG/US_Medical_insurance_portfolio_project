{
 "cells": [
  {
   "cell_type": "markdown",
   "metadata": {},
   "source": [
    "# U.S. Medical Insurance Costs"
   ]
  },
  {
   "cell_type": "code",
   "execution_count": 6,
   "metadata": {},
   "outputs": [
    {
     "name": "stdout",
     "output_type": "stream",
     "text": [
      "The average age of the dataset is 39.21\n",
      "The ratio between male and female (m:w) candidates in the dataset is 1.02\n",
      "The insurance cost difference between smokers and non-smokers is 32050.23 VS 8434.27\n",
      "The count of the place from where majority are from is 364 and the place is southeast\n",
      "The average age of a person with at least one child is 39.78\n"
     ]
    }
   ],
   "source": [
    "import csv\n",
    "ages = []\n",
    "sex = []\n",
    "bmi = []\n",
    "children = []\n",
    "smoker = []\n",
    "region = []\n",
    "charges = []\n",
    "with open('insurance.csv', newline='') as insurance_file:\n",
    "    insurance_reader = csv.DictReader(insurance_file)\n",
    "    for row in insurance_reader:\n",
    "        ages.append(int(row['age']))\n",
    "        sex.append(row['sex'])\n",
    "        children.append(int(row['children']))\n",
    "        if(row['smoker']=='yes'):\n",
    "            smoker.append(1)\n",
    "        else:\n",
    "            smoker.append(0)\n",
    "        region.append(row['region'])\n",
    "        charges.append(float(row['charges']))\n",
    "\n",
    "def average_no(listt):\n",
    "    total = 0\n",
    "    for i in listt:\n",
    "        total+=i\n",
    "    return total/len(listt)\n",
    "\n",
    "def sex_ratio(listt):\n",
    "    w = 0\n",
    "    m = 0\n",
    "    for i in listt:\n",
    "        if(i=='male'):\n",
    "            m+=1\n",
    "        if(i=='female'):\n",
    "            w+=1\n",
    "    return str(round(m/w,2))\n",
    "\n",
    "def cost_diff(listt):\n",
    "    nsm = 0\n",
    "    nsmc=0\n",
    "    sm = 0\n",
    "    smc=0\n",
    "    for i in range(len(listt)):\n",
    "        if(listt[i]==1):\n",
    "            smc+=1\n",
    "            sm+=charges[i]\n",
    "        else:\n",
    "            nsmc+=1\n",
    "            nsm+=charges[i]\n",
    "    avg_sm = round(sm/smc,2)\n",
    "    avg_nsm = round(nsm/nsmc,2)\n",
    "    return str(avg_sm)+\" VS \"+str(avg_nsm)\n",
    "\n",
    "def max_freq(listt):\n",
    "    freq = {}\n",
    "    for i in listt:\n",
    "        if i in freq:\n",
    "            freq[i]+=1\n",
    "        else:\n",
    "            freq[i]=1\n",
    "    maxx = 0\n",
    "    maxxpl=''\n",
    "    for i in freq:\n",
    "        if(freq[i]>maxx):\n",
    "            maxx = freq[i]\n",
    "            maxxpl = i\n",
    "    return str(maxx)+\" and the place is \"+maxxpl\n",
    "\n",
    "def average_age(listt):\n",
    "    age_count = 0\n",
    "    no_ppl = 0\n",
    "    for i in range(len(listt)):\n",
    "        if(listt[i]>=1):\n",
    "            age_count+=ages[i]\n",
    "            no_ppl+=1\n",
    "    return str(round(age_count/no_ppl,2))\n",
    "\n",
    "print(\"The average age of the dataset is \"+str(round(average_no(ages),2)))\n",
    "print(\"The ratio between male and female (m:w) candidates in the dataset is \"+sex_ratio(sex))\n",
    "print(\"The insurance cost difference between smokers and non-smokers is \"+cost_diff(smoker))\n",
    "print(\"The count of the place from where majority are from is \"+max_freq(region))\n",
    "print(\"The average age of a person with at least one child is \"+average_age(children))"
   ]
  }
 ],
 "metadata": {
  "kernelspec": {
   "display_name": "Python 3 (ipykernel)",
   "language": "python",
   "name": "python3"
  },
  "language_info": {
   "codemirror_mode": {
    "name": "ipython",
    "version": 3
   },
   "file_extension": ".py",
   "mimetype": "text/x-python",
   "name": "python",
   "nbconvert_exporter": "python",
   "pygments_lexer": "ipython3",
   "version": "3.9.13"
  }
 },
 "nbformat": 4,
 "nbformat_minor": 4
}
